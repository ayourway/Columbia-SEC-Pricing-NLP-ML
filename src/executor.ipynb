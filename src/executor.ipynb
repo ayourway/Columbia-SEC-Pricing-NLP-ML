{
 "cells": [
  {
   "cell_type": "code",
   "execution_count": 22,
   "metadata": {},
   "outputs": [],
   "source": [
    "import pandas as pd\n",
    "import os\n",
    "import urllib.request\n",
    "import codecs\n",
    "from bs4 import BeautifulSoup\n",
    "import numpy as np"
   ]
  },
  {
   "cell_type": "code",
   "execution_count": 10,
   "metadata": {},
   "outputs": [],
   "source": [
    "edgar_df = pd.read_csv('../data/Edgar.csv')\n",
    "edgar = edgar_df.values\n",
    "edgar_link = 'https://www.sec.gov/Archives/'"
   ]
  },
  {
   "cell_type": "code",
   "execution_count": 29,
   "metadata": {},
   "outputs": [
    {
     "name": "stdout",
     "output_type": "stream",
     "text": [
      "['10-Q', '10-K', '10-K/A', '10-Q/A', 'NT 10-Q', '10QSB', 'NT 10-K', '10KSB', '10QSB/A', '10KSB/A', '10-12B/A', 'F-10/A', 'F-10', '10-12G/A', '10-12B', '10-KT', '10-D', 'NTN 10Q', '10-12G', 'NTN 10K', '10SB12G/A', '10SB12G', '10-KT/A', '10-QT', 'NT 10-Q/A', 'NT 10-K/A', 'F-10POS', 'F-10EF', '10SB12B', '10-D/A']\n"
     ]
    }
   ],
   "source": [
    "print([i for i in edgar_df.Form.value_counts().keys() if '10' in i])"
   ]
  },
  {
   "cell_type": "code",
   "execution_count": 35,
   "metadata": {},
   "outputs": [],
   "source": [
    "def clean_html(saved_name, file_url):\n",
    "    request = urllib.request.Request(file_url)\n",
    "    html_file = urllib.request.urlopen(request).read()\n",
    "    soup = BeautifulSoup(html_file, 'lxml').get_text()\n",
    "\n",
    "    temp_file = codecs.open('../data/raw/' + saved_name + '.txt', 'w', 'utf-8')\n",
    "    temp_file.write(soup)\n",
    "    temp_file.close()\n",
    "\n",
    "\n",
    "\n",
    "def get_nlp_info(file_name):\n",
    "    temp_file = open('data/' + file_name, 'r').readlines()\n",
    "    new_file = ''\n",
    "    for line in temp_file:\n",
    "        if line.rstrip() == '':\n",
    "            continue\n",
    "        if line[-1] != '.':\n",
    "            new_file += ' ' + line.rstrip()\n",
    "        else:\n",
    "            new_file += '\\n' + line.rstrip()\n",
    "    written_file = open('data_nlp/nlp_' + file_name, 'w')\n",
    "    written_file.write(new_file)\n",
    "    written_file.close()"
   ]
  },
  {
   "cell_type": "code",
   "execution_count": 41,
   "metadata": {},
   "outputs": [
    {
     "data": {
      "text/plain": [
       "Index(['cik', 'FDATE', 'Form', 'CoName', 'FName', 'IName', 'TICKERH'], dtype='object')"
      ]
     },
     "execution_count": 41,
     "metadata": {},
     "output_type": "execute_result"
    }
   ],
   "source": [
    "edgar_df.keys()"
   ]
  },
  {
   "cell_type": "code",
   "execution_count": 36,
   "metadata": {},
   "outputs": [
    {
     "name": "stdout",
     "output_type": "stream",
     "text": [
      "[1750 20120925 '10-Q' 'AAR CORP' 'edgar/data/1750/0001104659-12-065381.txt'\n",
      " 'edgar/data/1750/0001104659-12-065381-index.htm' 'AIR']\n"
     ]
    }
   ],
   "source": [
    "for i in range(50):\n",
    "    if edgar[i][2] in ['10-Q', '10-K', '10-K/A', '10-Q/A']:\n",
    "        print(edgar[i])\n",
    "        s = clean_html(edgar[i][-1] + '-' + edgar[i][2] + '-' + str(edgar[i][1]), edgar_link + edgar[i][4])"
   ]
  },
  {
   "cell_type": "code",
   "execution_count": 96,
   "metadata": {},
   "outputs": [],
   "source": [
    "for name in os.listdir('data'):\n",
    "    get_nlp_info(name)"
   ]
  },
  {
   "cell_type": "code",
   "execution_count": 72,
   "metadata": {},
   "outputs": [
    {
     "data": {
      "text/plain": [
       "8387"
      ]
     },
     "execution_count": 72,
     "metadata": {},
     "output_type": "execute_result"
    }
   ],
   "source": [
    "os.listdir('data')"
   ]
  },
  {
   "cell_type": "code",
   "execution_count": 64,
   "metadata": {},
   "outputs": [
    {
     "data": {
      "text/plain": [
       "'Item 2.\\nManagement\\xe2\\x80\\x99s Discussion and Analysis and Plan of\\nOperation\\n\\nLiquidity\\nand Capital Resources\\n\\nLiquidity\\nOutlook. Our pr'"
      ]
     },
     "execution_count": 64,
     "metadata": {},
     "output_type": "execute_result"
    }
   ],
   "source": [
    "temp_file[45672:45800]"
   ]
  }
 ],
 "metadata": {
  "kernelspec": {
   "display_name": "Python 3",
   "language": "python",
   "name": "python3"
  },
  "language_info": {
   "codemirror_mode": {
    "name": "ipython",
    "version": 3
   },
   "file_extension": ".py",
   "mimetype": "text/x-python",
   "name": "python",
   "nbconvert_exporter": "python",
   "pygments_lexer": "ipython3",
   "version": "3.6.3"
  }
 },
 "nbformat": 4,
 "nbformat_minor": 1
}
