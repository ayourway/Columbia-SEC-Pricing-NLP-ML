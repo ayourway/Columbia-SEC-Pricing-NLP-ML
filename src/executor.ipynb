{
 "cells": [
  {
   "cell_type": "code",
   "execution_count": 74,
   "metadata": {
    "collapsed": true
   },
   "outputs": [],
   "source": [
    "import pandas as pd\n",
    "import os\n",
    "import urllib2\n",
    "import codecs\n",
    "from bs4 import BeautifulSoup"
   ]
  },
  {
   "cell_type": "code",
   "execution_count": 32,
   "metadata": {},
   "outputs": [],
   "source": [
    "edgar = pd.read_csv('edgar.csv').values\n",
    "edgar_link = 'https://www.sec.gov/Archives/'"
   ]
  },
  {
   "cell_type": "code",
   "execution_count": 95,
   "metadata": {},
   "outputs": [],
   "source": [
    "def clean_html(saved_name, file_url):\n",
    "    request = urllib2.Request(file_url)\n",
    "    html_file = urllib2.urlopen(request).read()\n",
    "    soup = BeautifulSoup(html_file, 'lxml').get_text()\n",
    "    temp_file = codecs.open('data/' + saved_name + '.txt', 'w', 'utf-8')\n",
    "    temp_file.write(soup)\n",
    "    temp_file.close()\n",
    "\n",
    "\n",
    "def get_nlp_info(file_name):\n",
    "    temp_file = open('data/' + file_name, 'r').readlines()\n",
    "    new_file = ''\n",
    "    for line in temp_file:\n",
    "        if line.rstrip() == '':\n",
    "            continue\n",
    "        if line[-1] != '.':\n",
    "            new_file += ' ' + line.rstrip()\n",
    "        else:\n",
    "            new_file += '\\n' + line.rstrip()\n",
    "    written_file = open('data_nlp/nlp_' + file_name, 'w')\n",
    "    written_file.write(new_file)\n",
    "    written_file.close()"
   ]
  },
  {
   "cell_type": "code",
   "execution_count": 83,
   "metadata": {},
   "outputs": [],
   "source": [
    "for i in range(50):\n",
    "    if edgar[i][2] == '10-Q':\n",
    "        clean_html(edgar[i][3] + '-' + str(edgar[i][1]), edgar_link + edgar[i][4])"
   ]
  },
  {
   "cell_type": "code",
   "execution_count": 96,
   "metadata": {},
   "outputs": [],
   "source": [
    "for name in os.listdir('data'):\n",
    "    get_nlp_info(name)"
   ]
  },
  {
   "cell_type": "code",
   "execution_count": 72,
   "metadata": {},
   "outputs": [
    {
     "data": {
      "text/plain": [
       "8387"
      ]
     },
     "execution_count": 72,
     "metadata": {},
     "output_type": "execute_result"
    }
   ],
   "source": [
    "os.listdir('data')"
   ]
  },
  {
   "cell_type": "code",
   "execution_count": 64,
   "metadata": {},
   "outputs": [
    {
     "data": {
      "text/plain": [
       "'Item 2.\\nManagement\\xe2\\x80\\x99s Discussion and Analysis and Plan of\\nOperation\\n\\nLiquidity\\nand Capital Resources\\n\\nLiquidity\\nOutlook. Our pr'"
      ]
     },
     "execution_count": 64,
     "metadata": {},
     "output_type": "execute_result"
    }
   ],
   "source": [
    "temp_file[45672:45800]"
   ]
  }
 ],
 "metadata": {
  "kernelspec": {
   "display_name": "Python 2",
   "language": "python",
   "name": "python2"
  },
  "language_info": {
   "codemirror_mode": {
    "name": "ipython",
    "version": 2.0
   },
   "file_extension": ".py",
   "mimetype": "text/x-python",
   "name": "python",
   "nbconvert_exporter": "python",
   "pygments_lexer": "ipython2",
   "version": "2.7.6"
  }
 },
 "nbformat": 4,
 "nbformat_minor": 0
}